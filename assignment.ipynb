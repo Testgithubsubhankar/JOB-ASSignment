{
 "cells": [
  {
   "cell_type": "markdown",
   "id": "7f119e8c",
   "metadata": {},
   "source": [
    "# create a function in python to read the text file and replace specific content of the file"
   ]
  },
  {
   "cell_type": "code",
   "execution_count": 1,
   "id": "b0b3feda",
   "metadata": {},
   "outputs": [],
   "source": [
    "f =open('example.txt',\"w\")"
   ]
  },
  {
   "cell_type": "code",
   "execution_count": 2,
   "id": "b06a9c61",
   "metadata": {},
   "outputs": [
    {
     "data": {
      "text/plain": [
       "30"
      ]
     },
     "execution_count": 2,
     "metadata": {},
     "output_type": "execute_result"
    }
   ],
   "source": [
    "f.write(\"This is a placement assignment\")"
   ]
  },
  {
   "cell_type": "code",
   "execution_count": 3,
   "id": "af77dc5c",
   "metadata": {},
   "outputs": [],
   "source": [
    "f.close()"
   ]
  },
  {
   "cell_type": "code",
   "execution_count": 6,
   "id": "565ad384",
   "metadata": {},
   "outputs": [
    {
     "name": "stdout",
     "output_type": "stream",
     "text": [
      " Volume in drive C is OS SSD\n",
      " Volume Serial Number is 88A7-E4A8\n",
      "\n",
      " Directory of C:\\Users\\User\n",
      "\n",
      "05-06-2022  02:05 PM         1,237,819  Exploratory Data Analysis - Retail.ipynb\n",
      "06-06-2022  08:29 PM    <DIR>          .\n",
      "06-06-2022  08:29 PM    <DIR>          ..\n",
      "08-04-2022  09:05 AM    <DIR>          .anaconda\n",
      "06-06-2022  08:29 PM    <DIR>          .conda\n",
      "24-03-2022  10:32 AM                25 .condarc\n",
      "24-03-2022  10:32 AM    <DIR>          .continuum\n",
      "05-06-2022  02:02 PM    <DIR>          .cufflinks\n",
      "06-06-2022  08:22 PM    <DIR>          .ipynb_checkpoints\n",
      "24-03-2022  10:45 AM    <DIR>          .ipython\n",
      "24-03-2022  10:42 AM    <DIR>          .jupyter\n",
      "04-05-2022  07:16 PM    <DIR>          .matplotlib\n",
      "20-04-2022  08:31 AM    <DIR>          __pycache__\n",
      "05-06-2022  02:34 PM    <DIR>          3D Objects\n",
      "25-05-2022  09:39 PM         6,378,634 5-Days-Live-EDA-and-Feature-Engineering-main.zip\n",
      "21-05-2022  01:06 AM           834,061 Advance Housing price prediction using python.ipynb\n",
      "24-03-2022  10:30 AM    <DIR>          anaconda3\n",
      "11-05-2022  10:22 PM             5,415 asseignment 4.ipynb\n",
      "30-04-2022  09:59 AM             5,129 assignment 2.ipynb\n",
      "12-05-2022  12:50 AM             2,568 assignment 5.ipynb\n",
      "27-05-2022  01:20 PM            70,955 competition analysis using python.ipynb\n",
      "20-05-2022  08:41 PM            28,423 Competition analysis.ipynb\n",
      "12-03-2022  06:52 PM    <DIR>          Contacts\n",
      "25-05-2022  09:47 PM           634,275 Copy of Data_Train.xlsx\n",
      "31-05-2022  08:21 PM    <DIR>          Desktop\n",
      "08-05-2022  11:04 PM    <DIR>          Documents\n",
      "05-06-2022  02:30 PM    <DIR>          Downloads\n",
      "06-06-2022  08:27 PM                30 example.txt\n",
      "12-03-2022  06:52 PM    <DIR>          Favorites\n",
      "03-05-2022  09:22 AM            11,903 glass.data\n",
      "20-05-2022  03:49 PM           203,809 house-prices-advanced-regression-techniques.zip\n",
      "06-05-2022  12:20 PM        20,716,084 IPL Ball-by-Ball 2008-2020.csv\n",
      "10-05-2022  12:17 AM            44,785 ipl data analysys.ipynb\n",
      "06-05-2022  12:20 PM           150,820 IPL Matches 2008-2020.csv\n",
      "06-05-2022  12:35 PM           150,820 IPL Matches 2008-2020-Copy1.csv\n",
      "09-05-2022  12:15 AM            34,620 json_res.csv\n",
      "12-03-2022  06:52 PM    <DIR>          Links\n",
      "07-05-2022  09:40 PM           184,013 LUSID Excel - Setting up your IBOR.xlsx\n",
      "12-03-2022  11:30 PM    <DIR>          Microsoft\n",
      "12-03-2022  06:52 PM    <DIR>          Music\n",
      "20-04-2022  08:36 AM               227 my_module.py\n",
      "08-05-2022  12:48 PM            69,659 NBA.csv\n",
      "06-06-2022  07:40 PM    <DIR>          OneDrive\n",
      "04-06-2022  05:19 PM    <DIR>          Pictures\n",
      "22-04-2022  08:46 AM    <DIR>          PycharmProjects\n",
      "10-04-2022  02:16 PM             3,872 Python assignment 1.ipynb\n",
      "10-04-2022  02:14 PM             3,872 Python assignment 1-Copy1.ipynb\n",
      "02-05-2022  09:30 PM            24,580 Python assignment 3.ipynb\n",
      "30-04-2022  10:01 AM             5,129 python assignment2.ipynb\n",
      "02-05-2022  09:30 PM            24,580 PYTHON ASSIGNMENT3.ipynb\n",
      "03-05-2022  07:23 PM             2,548 python Assingment 4.ipynb\n",
      "02-06-2022  12:17 AM            14,468 retail shop.ipynb\n",
      "06-05-2022  08:50 PM               255 sample_test.csv\n",
      "06-05-2022  08:56 PM           150,820 sample1_test.csv\n",
      "06-05-2022  08:57 PM        20,716,084 sample2_test.csv\n",
      "01-06-2022  11:54 PM         1,113,007 SampleSuperstore.csv\n",
      "12-03-2022  06:52 PM    <DIR>          Saved Games\n",
      "02-06-2022  05:47 PM    <DIR>          seaborn-data\n",
      "12-03-2022  06:53 PM    <DIR>          Searches\n",
      "22-05-2022  06:40 PM            58,490 Team performance vs PMI-using sql.ipynb\n",
      "17-04-2022  12:54 PM               980 test.log\n",
      "15-04-2022  09:14 AM                24 test.txt\n",
      "19-04-2022  10:04 AM                 0 test1.py\n",
      "19-04-2022  09:42 AM                 0 test1.py.bak\n",
      "13-04-2022  09:40 AM                60 test1.txt\n",
      "17-04-2022  01:12 PM               262 test2.log\n",
      "20-04-2022  07:55 AM               220 test2.py\n",
      "13-04-2022  09:44 AM                49 test2.txt\n",
      "17-04-2022  01:21 PM                 0 test3.log\n",
      "17-04-2022  01:31 PM                 0 test4.log\n",
      "16-04-2022  09:20 AM                 0 test43.txt\n",
      "16-04-2022  09:08 AM                22 text1.txt\n",
      "16-04-2022  09:10 AM                22 text5.txt\n",
      "11-05-2022  08:47 PM            16,244 Top 500 Companies - India.csv\n",
      "20-05-2022  03:52 PM           462,137 train.csv\n",
      "24-03-2022  10:45 AM                72 Untitled.ipynb\n",
      "10-04-2022  12:40 PM                 0 untitled.txt\n",
      "24-03-2022  10:58 PM             8,568 Untitled1.ipynb\n",
      "18-04-2022  08:57 AM                 0 untitled1.txt\n",
      "10-04-2022  12:18 PM            20,998 Untitled10.ipynb\n",
      "08-04-2022  09:52 AM             7,656 Untitled11.ipynb\n",
      "10-04-2022  01:51 PM             4,509 Untitled12.ipynb\n",
      "10-04-2022  06:20 PM             1,431 Untitled13.ipynb\n",
      "10-04-2022  11:52 PM               588 Untitled14.ipynb\n",
      "12-04-2022  09:32 AM             4,727 Untitled15.ipynb\n",
      "13-04-2022  09:13 AM             2,903 Untitled16.ipynb\n",
      "13-04-2022  09:16 AM             1,990 Untitled17.ipynb\n",
      "13-04-2022  09:59 AM            15,177 Untitled18.ipynb\n",
      "14-04-2022  10:05 AM            18,908 Untitled19.ipynb\n",
      "25-03-2022  09:29 AM             4,366 Untitled2.ipynb\n",
      "15-04-2022  08:24 AM             1,163 Untitled20.ipynb\n",
      "15-04-2022  09:51 AM             7,058 Untitled21.ipynb\n",
      "16-04-2022  08:56 AM             5,911 Untitled22.ipynb\n",
      "17-04-2022  10:01 AM             5,674 Untitled23.ipynb\n",
      "17-04-2022  10:08 AM             2,965 Untitled24.ipynb\n",
      "17-04-2022  01:34 PM             4,555 Untitled25.ipynb\n",
      "17-04-2022  10:37 PM               588 Untitled26.ipynb\n",
      "18-04-2022  09:13 AM               971 Untitled27.ipynb\n",
      "19-04-2022  09:58 AM            13,623 Untitled28.ipynb\n",
      "20-04-2022  08:36 AM             4,215 Untitled29.ipynb\n",
      "26-03-2022  08:40 AM            10,265 Untitled3.ipynb\n",
      "21-04-2022  10:01 AM             6,130 Untitled30.ipynb\n",
      "22-04-2022  09:12 AM               915 Untitled31.ipynb\n",
      "24-04-2022  02:10 PM            10,008 Untitled32.ipynb\n",
      "24-04-2022  04:52 PM             7,404 Untitled33.ipynb\n",
      "24-04-2022  03:46 PM                72 Untitled34.ipynb\n",
      "25-04-2022  10:02 AM             8,106 Untitled35.ipynb\n",
      "26-04-2022  09:30 AM             2,142 Untitled36.ipynb\n",
      "28-04-2022  09:42 AM             1,710 Untitled37.ipynb\n",
      "29-04-2022  09:12 AM             3,195 Untitled38.ipynb\n",
      "29-04-2022  09:16 AM               588 Untitled39.ipynb\n",
      "27-03-2022  08:08 AM             4,468 Untitled4.ipynb\n",
      "09-05-2022  10:52 AM            61,178 Untitled40.ipynb\n",
      "01-05-2022  10:38 AM             3,634 Untitled41.ipynb\n",
      "04-05-2022  12:08 AM            81,751 Untitled42.ipynb\n",
      "02-05-2022  10:33 PM             1,360 Untitled43.ipynb\n",
      "04-05-2022  12:44 AM            39,695 Untitled44.ipynb\n",
      "05-05-2022  10:12 PM           136,937 Untitled45.ipynb\n",
      "04-05-2022  07:44 PM            52,130 Untitled46.ipynb\n",
      "05-05-2022  05:08 PM            12,884 Untitled47.ipynb\n",
      "05-05-2022  09:42 PM             2,800 Untitled48.ipynb\n",
      "06-05-2022  12:56 PM             1,941 Untitled49.ipynb\n",
      "27-03-2022  09:14 AM             6,313 Untitled5.ipynb\n",
      "07-05-2022  09:58 PM            77,389 Untitled50.ipynb\n",
      "06-05-2022  10:46 PM            71,229 Untitled51.ipynb\n",
      "09-05-2022  12:16 AM           367,086 Untitled52.ipynb\n",
      "10-05-2022  09:26 PM            87,427 Untitled53.ipynb\n",
      "11-05-2022  12:33 PM            38,367 Untitled54.ipynb\n",
      "11-05-2022  01:45 PM            48,133 Untitled55.ipynb\n",
      "11-05-2022  08:48 PM             8,061 Untitled56.ipynb\n",
      "11-05-2022  10:21 PM             5,415 Untitled57.ipynb\n",
      "12-05-2022  12:48 AM             2,568 Untitled58.ipynb\n",
      "12-05-2022  11:57 AM               588 Untitled59.ipynb\n",
      "29-03-2022  08:19 AM             5,480 Untitled6.ipynb\n",
      "20-05-2022  07:47 PM           116,836 Untitled60.ipynb\n",
      "20-05-2022  11:21 PM            71,005 Untitled61.ipynb\n",
      "17-05-2022  11:08 AM            80,024 Untitled62.ipynb\n",
      "18-05-2022  01:34 PM           569,532 Untitled63.ipynb\n",
      "20-05-2022  08:23 PM            33,526 Untitled64.ipynb\n",
      "20-05-2022  11:16 PM           214,919 Untitled65.ipynb\n",
      "24-05-2022  01:49 PM         7,813,517 Untitled66.ipynb\n",
      "25-05-2022  09:31 PM           272,460 Untitled67.ipynb\n",
      "26-05-2022  01:04 AM            93,142 Untitled68.ipynb\n",
      "02-06-2022  09:53 PM           509,532 Untitled69.ipynb\n",
      "31-03-2022  09:42 AM             8,225 Untitled7.ipynb\n",
      "04-06-2022  01:32 PM         1,237,399 Untitled70.ipynb\n",
      "06-06-2022  01:52 PM            64,724 Untitled71.ipynb\n",
      "04-06-2022  02:11 PM         1,237,840 Untitled72.ipynb\n",
      "06-06-2022  08:29 PM             1,808 Untitled73.ipynb\n",
      "31-03-2022  09:18 AM               602 Untitled8.ipynb\n",
      "07-04-2022  08:31 AM            16,552 Untitled9.ipynb\n",
      "05-06-2022  02:01 PM    <DIR>          Videos\n",
      "             124 File(s)     67,009,427 bytes\n",
      "              28 Dir(s)  193,554,051,072 bytes free\n"
     ]
    }
   ],
   "source": [
    "%ls"
   ]
  },
  {
   "cell_type": "code",
   "execution_count": 12,
   "id": "07e75219",
   "metadata": {},
   "outputs": [],
   "source": [
    "f=open('example.txt')"
   ]
  },
  {
   "cell_type": "code",
   "execution_count": 13,
   "id": "bc5654a4",
   "metadata": {},
   "outputs": [
    {
     "data": {
      "text/plain": [
       "'This is a placement assignment'"
      ]
     },
     "execution_count": 13,
     "metadata": {},
     "output_type": "execute_result"
    }
   ],
   "source": [
    "f.read()"
   ]
  },
  {
   "cell_type": "code",
   "execution_count": 21,
   "id": "bb7e2ad2",
   "metadata": {},
   "outputs": [],
   "source": [
    "f=open(\"example.txt\",\"r\")\n",
    "m=open(\"out.txt\",\"w\")\n",
    "for line in f:\n",
    "    m.write(line.replace('placement','screening'))\n",
    "f.close()\n",
    "m.close()"
   ]
  },
  {
   "cell_type": "code",
   "execution_count": 23,
   "id": "b10c315e",
   "metadata": {},
   "outputs": [],
   "source": [
    "m=open('out.txt')"
   ]
  },
  {
   "cell_type": "code",
   "execution_count": 24,
   "id": "3133c70d",
   "metadata": {},
   "outputs": [
    {
     "data": {
      "text/plain": [
       "'This is a screening assignment'"
      ]
     },
     "execution_count": 24,
     "metadata": {},
     "output_type": "execute_result"
    }
   ],
   "source": [
    "m.read()"
   ]
  },
  {
   "cell_type": "markdown",
   "id": "6f98af11",
   "metadata": {},
   "source": [
    "# Demonstrate use of abstract class,multiple inheritance and decorator in python using examples."
   ]
  },
  {
   "cell_type": "markdown",
   "id": "5122e946",
   "metadata": {},
   "source": [
    "An abstract class can be considered as a blueprint for other classes. It allows you to create a set of methods that must be created within any child classes built from the abstract class. A class which contains one or more abstract methods is called an abstract class. An abstract method is a method that has a declaration but does not have an implementation. While we are designing large functional units we use an abstract class. When we want to provide a common interface for different implementations of a component, we use an abstract class. "
   ]
  },
  {
   "cell_type": "code",
   "execution_count": 57,
   "id": "c3d99382",
   "metadata": {},
   "outputs": [
    {
     "name": "stdout",
     "output_type": "stream",
     "text": [
      "I can walk and run\n",
      "I can crawl\n",
      "I can bark\n",
      "I can roar\n"
     ]
    }
   ],
   "source": [
    "from abc import ABC, abstractmethod\n",
    "class Animal(ABC):\n",
    " \n",
    "    def move(self):\n",
    "        pass\n",
    " \n",
    "class Human(Animal):\n",
    " \n",
    "    def move(self):\n",
    "        print(\"I can walk and run\")\n",
    " \n",
    "class Snake(Animal):\n",
    " \n",
    "    def move(self):\n",
    "        print(\"I can crawl\")\n",
    " \n",
    "class Dog(Animal):\n",
    " \n",
    "    def move(self):\n",
    "        print(\"I can bark\")\n",
    " \n",
    "class Lion(Animal):\n",
    " \n",
    "    def move(self):\n",
    "        print(\"I can roar\")\n",
    "         \n",
    "# Driver code\n",
    "R = Human()\n",
    "R.move()\n",
    " \n",
    "K = Snake()\n",
    "K.move()\n",
    " \n",
    "R = Dog()\n",
    "R.move()\n",
    " \n",
    "K = Lion()\n",
    "K.move()"
   ]
  },
  {
   "cell_type": "markdown",
   "id": "c14cd262",
   "metadata": {},
   "source": [
    "Inheritance is the mechanism to achieve the re-usability of code as one class(child class) can derive the properties of another class(parent class). It also provides transitivity ie. if class C inherits from P then all the sub-classes of C would also inherit from P."
   ]
  },
  {
   "cell_type": "code",
   "execution_count": 58,
   "id": "c6776b73",
   "metadata": {},
   "outputs": [],
   "source": [
    "class list_parser :\n",
    "    def __init__(self , l):\n",
    "        self.l = l \n",
    "    \n",
    "    def parcer(self):\n",
    "        if type(self.l) == list :\n",
    "            for i in self.l:\n",
    "                print(i)\n",
    "                \n",
    "    def reverser_list(self) :\n",
    "        if type(self.l) == list:\n",
    "            return self.l [::-1]"
   ]
  },
  {
   "cell_type": "code",
   "execution_count": 59,
   "id": "4cefb0c0",
   "metadata": {},
   "outputs": [
    {
     "name": "stdout",
     "output_type": "stream",
     "text": [
      "2\n",
      "3\n",
      "4\n",
      "6\n",
      "7\n",
      "78\n"
     ]
    }
   ],
   "source": [
    "c = list_parser([2,3,4,6,7,78])\n",
    "c.parcer()"
   ]
  },
  {
   "cell_type": "code",
   "execution_count": 60,
   "id": "edf8c882",
   "metadata": {},
   "outputs": [
    {
     "data": {
      "text/plain": [
       "[78, 7, 6, 4, 3, 2]"
      ]
     },
     "execution_count": 60,
     "metadata": {},
     "output_type": "execute_result"
    }
   ],
   "source": [
    "c.reverser_list()"
   ]
  },
  {
   "cell_type": "markdown",
   "id": "89f08596",
   "metadata": {},
   "source": [
    "A decorator is a design pattern in Python that allows a user to add new functionality to an existing object without modifying its structure. Decorators are usually called before the definition of a function you want to decorate."
   ]
  },
  {
   "cell_type": "code",
   "execution_count": 67,
   "id": "26540e97",
   "metadata": {},
   "outputs": [],
   "source": [
    "###function copy\n",
    "def  welcome():\n",
    "    return \"Welcome to youtube channel\""
   ]
  },
  {
   "cell_type": "code",
   "execution_count": 68,
   "id": "f6ccc249",
   "metadata": {},
   "outputs": [],
   "source": [
    "wel =welcome()\n",
    "del welcome"
   ]
  },
  {
   "cell_type": "code",
   "execution_count": 69,
   "id": "d58ad482",
   "metadata": {},
   "outputs": [
    {
     "data": {
      "text/plain": [
       "'Welcome to youtube channel'"
      ]
     },
     "execution_count": 69,
     "metadata": {},
     "output_type": "execute_result"
    }
   ],
   "source": [
    "wel"
   ]
  },
  {
   "cell_type": "code",
   "execution_count": 70,
   "id": "94f19440",
   "metadata": {},
   "outputs": [],
   "source": [
    "### closures \n",
    "def main_welcome(func):\n",
    "    \n",
    "    def sub_welcome_class():\n",
    "        print(\"Welcome to youtube channel\")\n",
    "        print(func([1,2,3,4,5,6]))\n",
    "        print(\"please subscribe channel\")\n",
    "    return sub_welcome_class()"
   ]
  },
  {
   "cell_type": "code",
   "execution_count": 71,
   "id": "addd3903",
   "metadata": {},
   "outputs": [
    {
     "name": "stdout",
     "output_type": "stream",
     "text": [
      "Welcome to youtube channel\n",
      "6\n",
      "please subscribe channel\n"
     ]
    }
   ],
   "source": [
    "main_welcome(len)"
   ]
  },
  {
   "cell_type": "code",
   "execution_count": 72,
   "id": "e83e5ab8",
   "metadata": {},
   "outputs": [],
   "source": [
    "### Decorators\n",
    "def main_welcome(func):\n",
    "    \n",
    "    def sub_welcome_class():\n",
    "        print(\"Welcome to youtube channel\")\n",
    "        func()\n",
    "        print(\"please subscribe channel\")\n",
    "    return sub_welcome_class()"
   ]
  },
  {
   "cell_type": "code",
   "execution_count": 73,
   "id": "93b3be9d",
   "metadata": {},
   "outputs": [],
   "source": [
    "def channel_name():\n",
    "    print(\"This is subhankar youtube channel\")"
   ]
  },
  {
   "cell_type": "code",
   "execution_count": 74,
   "id": "60f0371c",
   "metadata": {},
   "outputs": [
    {
     "name": "stdout",
     "output_type": "stream",
     "text": [
      "Welcome to youtube channel\n",
      "This is subhankar youtube channel\n",
      "please subscribe channel\n"
     ]
    }
   ],
   "source": [
    "main_welcome(channel_name)"
   ]
  },
  {
   "cell_type": "code",
   "execution_count": null,
   "id": "10bd1266",
   "metadata": {},
   "outputs": [],
   "source": []
  }
 ],
 "metadata": {
  "kernelspec": {
   "display_name": "Python 3 (ipykernel)",
   "language": "python",
   "name": "python3"
  },
  "language_info": {
   "codemirror_mode": {
    "name": "ipython",
    "version": 3
   },
   "file_extension": ".py",
   "mimetype": "text/x-python",
   "name": "python",
   "nbconvert_exporter": "python",
   "pygments_lexer": "ipython3",
   "version": "3.9.7"
  }
 },
 "nbformat": 4,
 "nbformat_minor": 5
}
